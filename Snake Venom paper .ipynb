{
 "cells": [
  {
   "cell_type": "markdown",
   "metadata": {},
   "source": [
    "Attempting to replicate humanmine section of this paper programmatically... \n",
    "\n",
    "[Cell surface nucleolin interacts with and internalizes Bothrops asper Lys49 phospholipase A2 and mediates its toxic activity](https://doi.org/10.1038/s41598-018-28846-4) (Maria Lina Massimino, Morena Simonato, Barbara Spolaore, Cinzia Franchin, Giorgio Arrigoni, Oriano Marin, Laura Monturiol-Gross, Julián Fernández, Bruno Lomonte & Fiorella Tonello)"
   ]
  },
  {
   "cell_type": "markdown",
   "metadata": {},
   "source": [
    "Initial setup...."
   ]
  },
  {
   "cell_type": "code",
   "execution_count": 68,
   "metadata": {},
   "outputs": [],
   "source": [
    "#import libraries\n",
    "from intermine.webservice import Service\n",
    "import requests\n",
    "\n",
    "#get an anonymous token\n",
    "service_url = \"http://www.humanmine.org/humanmine/\"\n",
    "token = requests.get(url=service_url + \"/service/session\")\n",
    "token = token.json()[\"token\"]\n",
    "\n",
    "service = Service(service_url, token=token)\n",
    "list_manager = service.list_manager()\n"
   ]
  },
  {
   "cell_type": "markdown",
   "metadata": {},
   "source": [
    "Create each of the lists from the spreadsheet... creating a list the commented way doesn't work because it's querying humanmine for mouse symbols, but I don't think we have a way to tell it what organism to use. "
   ]
  },
  {
   "cell_type": "code",
   "execution_count": 69,
   "metadata": {},
   "outputs": [],
   "source": [
    "list1_content = [\"Myh9\", \"Vim\", \"Plec\", \"Lmna\", \"Acaca\", \"Rpl4\", \"Ncl\", \"Myo1e\", \"Rpl7\", \"Rpl7a\", \"Myo1f\", \"Rpl6\", \"Pabpc1\", \"Rps4x\", \"Rpl3\", \"Rpl5\", \"Rps3\", \"Rps3a\", \"Rps2\", \"Tln1\", \"Rps8\", \"Myo1c\", \"Hspa8\", \"Flii\", \"Rpl10\", \"Rpl10a\", \"Rpl13a\", \"Rpl26\", \"Hsp90ab1\", \"Rpl32\", \"Rpl9\", \"Gm10020\", \"Rps9\", \"Gm10260\", \"Gsn\", \"Rps16\", \"Rpl30\", \"Rplp2\", \"Rpl17\", \"Rpl18\", \"Rpl23a\", \"Rpl8\", \"Rps6\", \"Rps13\", \"Actr3\", \"Impdh2\", \"Eif4a1\", \"Mybbp1a\", \"Phgdh\", \"Rps17\", \"Rps19\", \"Rpl14\", \"Rpl13\", \"Ybx1\", \"Npm1\", \"Hist1h4a\", \"Rpl21\", \"Rpl12\", \"Rpl19\", \"Rpl18a\", \"Rpl27a\", \"Rpl28\", \"Gm10036\", \"Rpl24\", \"Pcbp1\", \"Lpl\", \"Hnrnpu\", \"Eef1a1\", \"Iqgap1\", \"Gm9493\", \"Rps15a\", \"Rpl22\", \"Rpl34\", \"Rpl36\", \"Rpl23\", \"Rps11\", \"Rpl27\", \"Rpl31\", \"Rps23\", \"Arpc2\", \"Syncrip\", \"Ddx5\", \"Rpsa\", \"Fermt3\", \"Rps27a\", \"Hnrnpm\", \"Hist1h1c\", \"Bysl\", \"Rpl35a\", \"Nap1\", \"Rplp1\", \"Rpl37a\", \"Rps24\", \"U2af1\", \"Myl12a\", \"Rpl35\", \"G3bp1\", \"Rps5\", \"Rps25\", \"Rps14\", \"Arpc4\", \"Cdc27\", \"Tubb4b\", \"Hist1h3b\", \"Tubb5\", \"Hnrnpk\", \"Ddx21\", \"Hist1h2bp\", \"Dhx9\"]\n",
    "list2_content = [\"Ncl\", \"Rpl3\", \"Rpl4\", \"Rps3a\", \"Vim\", \"Rps3\", \"Rps4x\", \"Rpl8\", \"Rpl7a\", \"Rpl10\", \"Rpl18a\", \"Rpl7\", \"Rpl13\", \"Rpl5\", \"Rps7\", \"Actg1\", \"Rps8\", \"Rpl6\", \"Gm10260\", \"Npm1\", \"Hist1h4a\", \"Rps13\", \"Rpl14\", \"Rps11\", \"Rpl19\", \"Rpl13a\", \"Gm10020\", \"Rps5\", \"Rps2\", \"Rpl23a\", \"Rpl26\", \"Rpl28\", \"Rps16\", \"Rpl17\", \"Hist1h2bc\", \"Lmna\", \"Rps6\", \"Rpl34\", \"Rps19\", \"Rpl9\", \"Rpl30\", \"Rpl12\", \"Pabpc1\", \"Rps9\", \"Rps14\", \"Rpl10a\", \"Rplp2\", \"Gm10036\", \"Rpl21\", \"Rps17\", \"Rpl23\", \"Hnrnpu\", \"Rpl35a\", \"Rpl24\", \"Rps23\", \"Rps15a\", \"Hsp90ab1\", \"Rpl18\", \"Rps12\", \"Rpl22\", \"Gm17669\", \"Rpl36\", \"Rpl31\", \"Hspa8\", \"Hnrnpm\", \"Rpl32\", \"Rps10\", \"Rpl27\", \"Rpl27a\", \"Eef1a1\", \"Tubb5\", \"Nolc1\", \"Serbp1\", \"Rps24\", \"Fbl\", \"Hspa5\", \"Rps15\", \"Rpl37a\", \"Ybx1\", \"Rps20\", \"Rps26\", \"Rps27a\", \"G3bp1\", \"Tuba1b\", \"Cct2\", \"Cct6a\", \"Caprin1\", \"Rpl35\", \"Rpl36a\", \"Eif3a\", \"Eif3b\", \"Dhx9\", \"Nhp2\", \"Hnrnpc\", \"Ptbp1\", \"Atp5b\"]\n",
    "list3_content = [\"Iqgap1\", \"Myh9\", \"Vim\", \"Plec\", \"KRT2\", \"KRT9\", \"Lmna\", \"Ipo5\", \"KRT1\", \"KRT10\", \"Tln1\", \"Phgdh\", \"Hnrnpm\", \"Ncl\", \"Hspa8\", \"Fermt3\", \"Numa1\", \"Eif4a1\", \"Pla2g4a\", \"Hnrnpk\", \"Hsp90ab1\", \"Lmnb1\", \"Hspa5\", \"Ranbp2\", \"Oxsr1\", \"Ncf1\", \"Ehd4\", \"Kpnb1\", \"Iws1\", \"Rps3\", \"Dnm1\", \"Hsp90aa1\", \"Snx2\", \"Pdcd6ip\", \"Eef1a1\", \"Cse1\", \"Npm1\", \"Hnrnpu\", \"Cct2\", \"Ddx5\", \"Rangap1\", \"Pcbp1\", \"Ckm\", \"Ahsa1\", \"Mki67\", \"Pkm\", \"Pak2\", \"Ndrg1\", \"Arhgef1\", \"Vat1\", \"Gapdh\", \"Picalm\", \"KRT4\", \"Ldha\", \"Rpl13\", \"Ppm1g\", \"Supt16\", \"Rps8\", \"Hist1h2bp\", \"Rps4x\", \"Rplp0\", \"Cct3\", \"Hspa9\", \"Hmha1\", \"Hspd1\", \"Tcp1\", \"Ctnnd1\", \"Ipo7\", \"Cct8\", \"Tbc1d15\", \"Copg1\", \"Pcbp2\", \"Trap1\", \"Dnm2\", \"Tnpo1\", \"KRT78\", \"Ssrp1\", \"Htatsf1\", \"Pcm1\", \"Rpl23\", \"Actg1\", \"Hist1h4a\", \"Pdia6\", \"Hnrnpf\", \"Hsp90b1\", \"HRNR\", \"Lcp1\", \"Swap70\", \"Eef1g\", \"Map2k1\", \"Smc2\", \"Arhgap17\", \"Anxa2\", \"Atp5a1\", \"Cand1\", \"Uso1\"]\n"
   ]
  },
  {
   "cell_type": "markdown",
   "metadata": {},
   "source": [
    "First I tried to upload the lists without setting the organism or field type. This didn't work and each list ended up resolving two identifiers (out of around one hundred)."
   ]
  },
  {
   "cell_type": "code",
   "execution_count": 70,
   "metadata": {},
   "outputs": [],
   "source": [
    "#list1 = list_manager.create_list(content=list1_content, list_type=\"Gene\", name=\"list1\")\n",
    "#list2 = list_manager.create_list(content=list2_content, list_type=\"Gene\", name=\"list2\")\n",
    "#list3 = list_manager.create_list(content=list3_content, list_type=\"Gene\", name=\"list3\")"
   ]
  },
  {
   "cell_type": "markdown",
   "metadata": {},
   "source": [
    "Second attempt - specifying that we're looking for mouse symbols. "
   ]
  },
  {
   "cell_type": "code",
   "execution_count": 71,
   "metadata": {},
   "outputs": [],
   "source": [
    "query1 = service.new_query(\"Gene\")\n",
    "query1.add_constraint(\"symbol\", \"ONE OF\", list1_content)\n",
    "query1.add_constraint(\"organism.species\",\"=\",'musculus')\n",
    "list1 = list_manager.create_list(query1, \"Gene\", \"list 1\")\n",
    "\n",
    "query2 = service.new_query(\"Gene\")\n",
    "query2.add_constraint(\"symbol\", \"ONE OF\", list2_content)\n",
    "query2.add_constraint(\"organism.species\",\"=\",'musculus')\n",
    "list2 = list_manager.create_list(query2, \"Gene\", \"list 2\")\n",
    "\n",
    "\n",
    "query3 = service.new_query(\"Gene\")\n",
    "query3.add_constraint(\"symbol\", \"ONE OF\", list3_content)\n",
    "query3.add_constraint(\"organism.species\",\"=\",'musculus')\n",
    "list3 = list_manager.create_list(query3, \"Gene\", \"list 3\")"
   ]
  },
  {
   "cell_type": "markdown",
   "metadata": {},
   "source": [
    "Now we need to intersect the lists - the paper says 15 results were found. "
   ]
  },
  {
   "cell_type": "code",
   "execution_count": 72,
   "metadata": {},
   "outputs": [],
   "source": [
    "interesting_results = list_manager.intersect([list1, list2, list3],name=\"interesting genes\")"
   ]
  },
  {
   "cell_type": "markdown",
   "metadata": {},
   "source": [
    "let's check how many results we have..."
   ]
  },
  {
   "cell_type": "code",
   "execution_count": 73,
   "metadata": {},
   "outputs": [
    {
     "name": "stdout",
     "output_type": "stream",
     "text": [
      "Number of results in intersected lists: 15\n"
     ]
    }
   ],
   "source": [
    "print(\"Number of results in intersected lists: \" + str(interesting_results.count))"
   ]
  },
  {
   "cell_type": "markdown",
   "metadata": {},
   "source": [
    "Nice! We have what is hopefully the same list as the paper... "
   ]
  },
  {
   "cell_type": "code",
   "execution_count": 75,
   "metadata": {},
   "outputs": [],
   "source": [
    "#TODO: \n",
    "# add list of protein interactions associated with this gene list\n",
    "# plus interaction widget I think? "
   ]
  }
 ],
 "metadata": {
  "kernelspec": {
   "display_name": "Python 3",
   "language": "python",
   "name": "python3"
  },
  "language_info": {
   "codemirror_mode": {
    "name": "ipython",
    "version": 2
   },
   "file_extension": ".py",
   "mimetype": "text/x-python",
   "name": "python",
   "nbconvert_exporter": "python",
   "pygments_lexer": "ipython2",
   "version": "2.7.14"
  }
 },
 "nbformat": 4,
 "nbformat_minor": 2
}
